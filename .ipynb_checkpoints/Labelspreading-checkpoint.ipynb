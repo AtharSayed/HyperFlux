{
 "cells": [
  {
   "cell_type": "code",
   "execution_count": null,
   "metadata": {
    "vscode": {
     "languageId": "plaintext"
    }
   },
   "outputs": [],
   "source": [
    "import pandas as pd\n",
    "import seaborn as sns\n",
    "from cuml.neighbors import NearestNeighbors as cuNN\n",
    "from cuml.semi_supervised import LabelSpreading as cuLabelSpreading  # cuML's LabelSpreading\n",
    "from cuml.preprocessing import StandardScaler  # cuML's StandardScaler\n",
    "from sklearn.model_selection import train_test_split\n",
    "from sklearn.metrics import accuracy_score  # For evaluating accuracy\n",
    "from tqdm import tqdm\n",
    "import cupy as cp  # cuML works with CuPy arrays (GPU-accelerated numpy)\n",
    "\n",
    "# Load the data using pandas\n",
    "file_path = 'cluster_new_raw_test.csv'\n",
    "df = pd.read_csv(file_path)\n",
    "\n",
    "# Drop unnecessary column\n",
    "df.drop(columns=['id'], inplace=True)\n",
    "\n",
    "# Show first few rows\n",
    "df.head()\n",
    "\n",
    "# Check the distribution of target variable\n",
    "y = df['Cluster']\n",
    "y.value_counts()\n",
    "\n",
    "# Define target column and features\n",
    "target_column = 'Cluster'\n",
    "X = df.drop(columns=[target_column])\n",
    "y = df[target_column]\n",
    "\n",
    "# Apply standardization (scaling) to the features\n",
    "scaler = StandardScaler()  # Create the StandardScaler object\n",
    "X = scaler.fit_transform(X)  # Apply scaling\n",
    "\n",
    "# Convert to CuPy arrays (necessary for GPU-based operations)\n",
    "X = cp.array(X)  # Convert to GPU arrays (CuPy)\n",
    "y = cp.array(y)  # Convert target to CuPy array\n",
    "\n",
    "# Split the data into train and test (using sklearn)\n",
    "X_train, X_test, y_train, y_test = train_test_split(X, y, test_size=0.25, random_state=42)\n",
    "\n",
    "# Initialize the cuML LabelSpreading classifier (GPU-accelerated)\n",
    "model = cuLabelSpreading(kernel='knn',  # 'knn' kernel for nearest neighbors\n",
    "                         alpha=0.8,   # Regularization parameter\n",
    "                         n_neighbors=7,  # Number of neighbors for label spreading\n",
    "                         random_state=42)\n",
    "\n",
    "# Training loop with batch processing (optional, you can also fit on the entire dataset)\n",
    "batch_size = 500\n",
    "n_batches = len(X_train) // batch_size + (1 if len(X_train) % batch_size != 0 else 0)\n",
    "\n",
    "for batch_idx in tqdm(range(n_batches), desc=\"Training Batches\", unit=\"batch\"):\n",
    "    # Get the start and end indices for this batch\n",
    "    start_idx = batch_idx * batch_size\n",
    "    end_idx = min((batch_idx + 1) * batch_size, len(X_train))\n",
    "\n",
    "    # Slice the training data for this batch\n",
    "    X_batch = X_train[start_idx:end_idx]\n",
    "    y_batch = y_train[start_idx:end_idx]\n",
    "\n",
    "    # Train on this batch\n",
    "    model.fit(X_batch, y_batch)\n",
    "\n",
    "# Evaluate the model\n",
    "y_pred = model.predict(X_test)\n",
    "accuracy = accuracy_score(cp.asnumpy(y_test), cp.asnumpy(y_pred))  # Convert GPU arrays back to numpy for sklearn\n",
    "print(f\"Final Model Accuracy: {accuracy:.4f}\")\n"
   ]
  }
 ],
 "metadata": {
  "kernelspec": {
   "display_name": "Python 3 (ipykernel)",
   "language": "python",
   "name": "python3"
  },
  "language_info": {
   "codemirror_mode": {
    "name": "ipython",
    "version": 3
   },
   "file_extension": ".py",
   "mimetype": "text/x-python",
   "name": "python",
   "nbconvert_exporter": "python",
   "pygments_lexer": "ipython3",
   "version": "3.12.4"
  }
 },
 "nbformat": 4,
 "nbformat_minor": 4
}

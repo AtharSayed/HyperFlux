{
 "cells": [
  {
   "cell_type": "code",
   "execution_count": null,
   "metadata": {},
   "outputs": [
    {
     "name": "stderr",
     "output_type": "stream",
     "text": [
      "Training Batches: 100%|██████████| 113/113 [00:26<00:00,  4.30batch/s]\n"
     ]
    },
    {
     "name": "stdout",
     "output_type": "stream",
     "text": [
      "Final Model Accuracy: 0.9463\n"
     ]
    },
    {
     "data": {
      "image/png": "[encoded data removed]",
      "text/plain": [
       "<Figure size 800x600 with 2 Axes>"
      ]
     },
     "metadata": {},
     "output_type": "display_data"
    },
    {
     "name": "stdout",
     "output_type": "stream",
     "text": [
      "\n",
      "Classification Report:\n",
      "              precision    recall  f1-score   support\n",
      "\n",
      "           0       0.95      0.95      0.95     60253\n",
      "           1       0.94      0.94      0.94     52565\n",
      "\n",
      "    accuracy                           0.95    112818\n",
      "   macro avg       0.95      0.95      0.95    112818\n",
      "weighted avg       0.95      0.95      0.95    112818\n",
      "\n",
      "ROC AUC Score: 0.9870\n"
     ]
    }
   ],
   "source": [
    "import pandas as pd\n",
    "from sklearn.ensemble import RandomForestClassifier\n",
    "from sklearn.preprocessing import StandardScaler\n",
    "from sklearn.model_selection import train_test_split\n",
    "from sklearn.metrics import accuracy_score, confusion_matrix, classification_report, roc_auc_score\n",
    "import seaborn as sns\n",
    "import matplotlib.pyplot as plt\n",
    "from tqdm import tqdm\n",
    "import warnings\n",
    "\n",
    "warnings.filterwarnings('ignore')  # To ignore all warnings\n",
    "\n",
    "# Load the data using pandas\n",
    "file_path = 'cluster_new_raw_test.csv'\n",
    "df = pd.read_csv(file_path)\n",
    "\n",
    "# Drop unnecessary column\n",
    "df.drop(columns=['id'], inplace=True)\n",
    "\n",
    "# Show first few rows\n",
    "df.head()\n",
    "\n",
    "# Check the distribution of target variable\n",
    "y = df['Cluster']\n",
    "y.value_counts()\n",
    "\n",
    "# Define target column and features\n",
    "target_column = 'Cluster'\n",
    "X = df.drop(columns=[target_column])\n",
    "y = df[target_column]\n",
    "\n",
    "# Apply standardization (scaling) to the features\n",
    "scaler = StandardScaler()  # Create the StandardScaler object\n",
    "X = scaler.fit_transform(X)  # Apply scaling\n",
    "\n",
    "# Split the data into train and test (using sklearn)\n",
    "X_train, X_test, y_train, y_test = train_test_split(X, y, test_size=0.25, random_state=42)\n",
    "\n",
    "# Initialize the RandomForestClassifier\n",
    "model = RandomForestClassifier(random_state=42, n_jobs=-1)\n",
    "\n",
    "# Training loop with batch processing\n",
    "batch_size = 3000 \n",
    "n_batches = len(X_train) // batch_size + (1 if len(X_train) % batch_size != 0 else 0)\n",
    "\n",
    "# Progress tracking with tqdm\n",
    "for batch_idx in tqdm(range(n_batches), desc=\"Training Batches\", unit=\"batch\"):\n",
    "    # Get the start and end indices for this batch\n",
    "    start_idx = batch_idx * batch_size\n",
    "    end_idx = min((batch_idx + 1) * batch_size, len(X_train))\n",
    "\n",
    "    # Slice the training data for this batch\n",
    "    X_batch = X_train[start_idx:end_idx]\n",
    "    y_batch = y_train[start_idx:end_idx]\n",
    "\n",
    "    # Train on this batch\n",
    "    model.fit(X_batch, y_batch)\n",
    "\n",
    "# Evaluate the model\n",
    "y_pred = model.predict(X_test)\n",
    "\n",
    "# Accuracy\n",
    "accuracy = accuracy_score(y_test, y_pred)\n",
    "print(f\"Final Model Accuracy: {accuracy:.4f}\")\n",
    "\n",
    "# Confusion Matrix\n",
    "conf_matrix = confusion_matrix(y_test, y_pred)\n",
    "\n",
    "# Plot Confusion Matrix using Seaborn\n",
    "plt.figure(figsize=(2, 2))\n",
    "sns.heatmap(conf_matrix, annot=True, fmt='d', cmap='Blues', xticklabels=['Pred_0', 'Pred_1'], yticklabels=['True_0', 'True_1'])\n",
    "plt.xlabel('Predicted Labels')\n",
    "plt.ylabel('True Labels')\n",
    "plt.title('Confusion Matrix')\n",
    "plt.show()\n",
    "\n",
    "# Classification Report\n",
    "class_report = classification_report(y_test, y_pred)\n",
    "print(\"\\nClassification Report:\")\n",
    "print(class_report)\n",
    "\n",
    "# For Binary Classification: ROC AUC Score\n",
    "# (Note: Use if this is a binary classification task, otherwise you can omit this)\n",
    "if len(y.unique()) == 2:  # Check if this is binary classification\n",
    "    y_prob = model.predict_proba(X_test)[:, 1]  # Probabilities for the positive class\n",
    "    roc_auc = roc_auc_score(y_test, y_prob)\n",
    "    print(f\"ROC AUC Score: {roc_auc:.4f}\")\n"
   ]
  },
  {
   "cell_type": "code",
   "execution_count": null,
   "metadata": {},
   "outputs": [],
   "source": []
  },
  {
   "cell_type": "code",
   "execution_count": null,
   "metadata": {},
   "outputs": [],
   "source": []
  }
 ],
 "metadata": {
  "kernelspec": {
   "display_name": "Python 3",
   "language": "python",
   "name": "python3"
  },
  "language_info": {
   "codemirror_mode": {
    "name": "ipython",
    "version": 3
   },
   "file_extension": ".py",
   "mimetype": "text/x-python",
   "name": "python",
   "nbconvert_exporter": "python",
   "pygments_lexer": "ipython3",
   "version": "3.11.3"
  }
 },
 "nbformat": 4,
 "nbformat_minor": 2
}

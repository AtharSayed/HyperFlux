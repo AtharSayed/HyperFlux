{
 "cells": [
  {
   "cell_type": "code",
   "execution_count": 1,
   "metadata": {},
   "outputs": [
    {
     "name": "stdout",
     "output_type": "stream",
     "text": [
      "Training with learning_rate=0.001 and num_epochs=50\n"
     ]
    },
    {
     "name": "stderr",
     "output_type": "stream",
     "text": [
      "Training Epochs: 100%|██████████| 50/50 [00:00<00:00, 108.45epoch/s]\n"
     ]
    },
    {
     "name": "stdout",
     "output_type": "stream",
     "text": [
      "Accuracy: 0.2483\n",
      "Training with learning_rate=0.001 and num_epochs=100\n"
     ]
    },
    {
     "name": "stderr",
     "output_type": "stream",
     "text": [
      "Training Epochs: 100%|██████████| 100/100 [00:00<00:00, 546.67epoch/s]\n"
     ]
    },
    {
     "name": "stdout",
     "output_type": "stream",
     "text": [
      "Accuracy: 0.3835\n",
      "Training with learning_rate=0.001 and num_epochs=150\n"
     ]
    },
    {
     "name": "stderr",
     "output_type": "stream",
     "text": [
      "Training Epochs: 100%|██████████| 150/150 [00:00<00:00, 199.49epoch/s]\n"
     ]
    },
    {
     "name": "stdout",
     "output_type": "stream",
     "text": [
      "Accuracy: 0.2742\n",
      "Training with learning_rate=0.01 and num_epochs=50\n"
     ]
    },
    {
     "name": "stderr",
     "output_type": "stream",
     "text": [
      "Training Epochs: 100%|██████████| 50/50 [00:00<00:00, 1056.03epoch/s]\n"
     ]
    },
    {
     "name": "stdout",
     "output_type": "stream",
     "text": [
      "Accuracy: 0.3859\n",
      "Training with learning_rate=0.01 and num_epochs=100\n"
     ]
    },
    {
     "name": "stderr",
     "output_type": "stream",
     "text": [
      "Training Epochs: 100%|██████████| 100/100 [00:00<00:00, 539.54epoch/s]\n"
     ]
    },
    {
     "name": "stdout",
     "output_type": "stream",
     "text": [
      "Accuracy: 0.7693\n",
      "Training with learning_rate=0.01 and num_epochs=150\n"
     ]
    },
    {
     "name": "stderr",
     "output_type": "stream",
     "text": [
      "Training Epochs: 100%|██████████| 150/150 [00:00<00:00, 199.70epoch/s]\n"
     ]
    },
    {
     "name": "stdout",
     "output_type": "stream",
     "text": [
      "Accuracy: 0.7980\n",
      "Training with learning_rate=0.1 and num_epochs=50\n"
     ]
    },
    {
     "name": "stderr",
     "output_type": "stream",
     "text": [
      "Training Epochs: 100%|██████████| 50/50 [00:00<00:00, 631.66epoch/s]\n"
     ]
    },
    {
     "name": "stdout",
     "output_type": "stream",
     "text": [
      "Accuracy: 0.9065\n",
      "Training with learning_rate=0.1 and num_epochs=100\n"
     ]
    },
    {
     "name": "stderr",
     "output_type": "stream",
     "text": [
      "Training Epochs: 100%|██████████| 100/100 [00:00<00:00, 557.50epoch/s]\n"
     ]
    },
    {
     "name": "stdout",
     "output_type": "stream",
     "text": [
      "Accuracy: 0.9057\n",
      "Training with learning_rate=0.1 and num_epochs=150\n"
     ]
    },
    {
     "name": "stderr",
     "output_type": "stream",
     "text": [
      "Training Epochs: 100%|██████████| 150/150 [00:00<00:00, 198.30epoch/s]\n"
     ]
    },
    {
     "name": "stdout",
     "output_type": "stream",
     "text": [
      "Accuracy: 0.9061\n",
      "Best Hyperparameters: Learning Rate=0.1, Epochs=50\n",
      "Best Model Accuracy: 0.9065\n"
     ]
    }
   ],
   "source": [
    "import pandas as pd\n",
    "import torch\n",
    "import torch.nn as nn\n",
    "import torch.optim as optim\n",
    "from sklearn.preprocessing import StandardScaler\n",
    "from sklearn.model_selection import train_test_split\n",
    "from sklearn.metrics import accuracy_score  # For evaluating accuracy\n",
    "from tqdm import tqdm\n",
    "import itertools\n",
    "\n",
    "# Load the data using pandas\n",
    "file_path = 'cluster_new_raw_test.csv'\n",
    "df = pd.read_csv(file_path)\n",
    "\n",
    "# Drop unnecessary column\n",
    "df.drop(columns=['id'], inplace=True)\n",
    "\n",
    "# Show first few rows\n",
    "df.head()\n",
    "\n",
    "# Check the distribution of target variable\n",
    "y = df['Cluster']\n",
    "y.value_counts()\n",
    "\n",
    "# Define target column and features\n",
    "target_column = 'Cluster'\n",
    "X = df.drop(columns=[target_column])\n",
    "y = df[target_column]\n",
    "\n",
    "# Apply standardization (scaling) to the features\n",
    "scaler = StandardScaler()  # Create the StandardScaler object\n",
    "X = scaler.fit_transform(X)  # Apply scaling\n",
    "\n",
    "# Convert to Torch tensors (necessary for GPU-based operations)\n",
    "X = torch.tensor(X, dtype=torch.float32).cuda()  # Move the features to GPU\n",
    "y = torch.tensor(y.values, dtype=torch.long).cuda()  # Move target to GPU\n",
    "\n",
    "# Split the data into train and test (using sklearn)\n",
    "X_train, X_test, y_train, y_test = train_test_split(X.cpu().numpy(), y.cpu().numpy(), test_size=0.25, random_state=42)\n",
    "\n",
    "# Convert back to Torch tensors after train-test split\n",
    "X_train = torch.tensor(X_train, dtype=torch.float32).cuda()\n",
    "X_test = torch.tensor(X_test, dtype=torch.float32).cuda()\n",
    "y_train = torch.tensor(y_train, dtype=torch.long).cuda()\n",
    "y_test = torch.tensor(y_test, dtype=torch.long).cuda()\n",
    "\n",
    "# Define a simple linear model similar to SGDClassifier\n",
    "class SGDModel(nn.Module):\n",
    "    def __init__(self, input_dim):\n",
    "        super(SGDModel, self).__init__()\n",
    "        self.fc = nn.Linear(input_dim, 2)  # Binary classification\n",
    "\n",
    "    def forward(self, x):\n",
    "        return self.fc(x)\n",
    "\n",
    "# Function for training and evaluating the model\n",
    "def train_and_evaluate_model(learning_rate, num_epochs):\n",
    "    # Initialize the model\n",
    "    model = SGDModel(X_train.shape[1]).cuda()\n",
    "\n",
    "    # Define loss function and optimizer\n",
    "    criterion = nn.CrossEntropyLoss()  # CrossEntropy for classification\n",
    "    optimizer = optim.SGD(model.parameters(), lr=learning_rate)\n",
    "\n",
    "    # Training loop\n",
    "    for epoch in tqdm(range(num_epochs), desc=\"Training Epochs\", unit=\"epoch\"):\n",
    "        model.train()\n",
    "        optimizer.zero_grad()  # Clear gradients\n",
    "        outputs = model(X_train)  # Forward pass\n",
    "        loss = criterion(outputs, y_train)  # Compute loss\n",
    "        loss.backward()  # Backpropagation\n",
    "        optimizer.step()  # Update weights\n",
    "\n",
    "    # Evaluate the model\n",
    "    model.eval()  # Switch to evaluation mode\n",
    "    with torch.no_grad():\n",
    "        y_pred = model(X_test)  # Make predictions\n",
    "        _, predicted = torch.max(y_pred, 1)  # Get predicted class labels\n",
    "\n",
    "    # Evaluate accuracy\n",
    "    accuracy = accuracy_score(y_test.cpu().numpy(), predicted.cpu().numpy())  # Convert back to NumPy for sklearn\n",
    "    return accuracy\n",
    "\n",
    "# Hyperparameter grid for grid search\n",
    "learning_rates = [0.001, 0.01, 0.1]\n",
    "num_epochs_list = [50, 100, 150]\n",
    "\n",
    "# Create a cartesian product of all hyperparameter combinations\n",
    "param_combinations = list(itertools.product(learning_rates, num_epochs_list))\n",
    "\n",
    "# Initialize variables to track the best hyperparameters\n",
    "best_accuracy = 0\n",
    "best_params = None\n",
    "\n",
    "# Perform grid search\n",
    "for lr, epochs in param_combinations:\n",
    "    print(f\"Training with learning_rate={lr} and num_epochs={epochs}\")\n",
    "    accuracy = train_and_evaluate_model(lr, epochs)\n",
    "    print(f\"Accuracy: {accuracy:.4f}\")\n",
    "\n",
    "    # Track the best model based on accuracy\n",
    "    if accuracy > best_accuracy:\n",
    "        best_accuracy = accuracy\n",
    "        best_params = (lr, epochs)\n",
    "\n",
    "# Output the best hyperparameters\n",
    "print(f\"Best Hyperparameters: Learning Rate={best_params[0]}, Epochs={best_params[1]}\")\n",
    "print(f\"Best Model Accuracy: {best_accuracy:.4f}\")\n"
   ]
  },
  {
   "cell_type": "code",
   "execution_count": null,
   "metadata": {},
   "outputs": [],
   "source": []
  }
 ],
 "metadata": {
  "kernelspec": {
   "display_name": "Python 3",
   "language": "python",
   "name": "python3"
  },
  "language_info": {
   "codemirror_mode": {
    "name": "ipython",
    "version": 3
   },
   "file_extension": ".py",
   "mimetype": "text/x-python",
   "name": "python",
   "nbconvert_exporter": "python",
   "pygments_lexer": "ipython3",
   "version": "3.11.3"
  }
 },
 "nbformat": 4,
 "nbformat_minor": 2
}
